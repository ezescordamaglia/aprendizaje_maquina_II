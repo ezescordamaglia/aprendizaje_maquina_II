{
 "cells": [
  {
   "attachments": {},
   "cell_type": "markdown",
   "id": "6df2981f",
   "metadata": {},
   "source": [
    "# Registro de modelos y versionado con MLFlow"
   ]
  },
  {
   "cell_type": "code",
   "execution_count": 12,
   "id": "8937b46d",
   "metadata": {},
   "outputs": [
    {
     "name": "stderr",
     "output_type": "stream",
     "text": [
      "INFO  [alembic.runtime.migration] Context impl SQLiteImpl.\n",
      "INFO  [alembic.runtime.migration] Will assume non-transactional DDL.\n",
      "2023/05/09 15:30:26 INFO mlflow.tracking.fluent: Experiment with name 'Wine_prediction' does not exist. Creating a new experiment.\n"
     ]
    }
   ],
   "source": [
    "import os\n",
    "import warnings\n",
    "import sys\n",
    "\n",
    "import pandas as pd\n",
    "import numpy as np\n",
    "from sklearn.metrics import mean_squared_error, mean_absolute_error, r2_score\n",
    "from sklearn.model_selection import train_test_split\n",
    "from sklearn.linear_model import ElasticNet\n",
    "from urllib.parse import urlparse\n",
    "import mlflow\n",
    "import mlflow.sklearn\n",
    "\n",
    "import logging\n",
    "mlflow.set_tracking_uri(\"sqlite:///mlruns.db\")\n",
    "#mlflow.set_tracking_uri(\"http://127.0.0.1:5000/\")\n",
    "#mlflow.set_tracking_uri(\"sqlite:///mydb.sqlite\")\n",
    "\n",
    "mlflow.set_experiment(\"Wine_prediction\")\n",
    "\n",
    "logging.basicConfig(level=logging.WARN)\n",
    "logger = logging.getLogger(__name__)"
   ]
  },
  {
   "cell_type": "code",
   "execution_count": 8,
   "id": "276baf0b",
   "metadata": {},
   "outputs": [],
   "source": [
    "def eval_metrics(actual, pred):\n",
    "    rmse = np.sqrt(mean_squared_error(actual, pred))\n",
    "    mae = mean_absolute_error(actual, pred)\n",
    "    r2 = r2_score(actual, pred)\n",
    "    return rmse, mae, r2\n"
   ]
  },
  {
   "cell_type": "code",
   "execution_count": 16,
   "id": "373929a6",
   "metadata": {},
   "outputs": [
    {
     "name": "stdout",
     "output_type": "stream",
     "text": [
      "Elasticnet model (alpha=0.500000, l1_ratio=0.500000):\n",
      "  RMSE: 0.793164022927685\n",
      "  MAE: 0.6271946374319586\n",
      "  R2: 0.10862644997792636\n"
     ]
    },
    {
     "name": "stderr",
     "output_type": "stream",
     "text": [
      "Registered model 'ElasticnetWineModel' already exists. Creating a new version of this model...\n",
      "2023/05/09 15:34:55 INFO mlflow.tracking._model_registry.client: Waiting up to 300 seconds for model version to finish creation. Model name: ElasticnetWineModel, version 4\n",
      "Created version '4' of model 'ElasticnetWineModel'.\n"
     ]
    }
   ],
   "source": [
    "if __name__ == \"__main__\":\n",
    "    \n",
    "    warnings.filterwarnings(\"ignore\")\n",
    "    np.random.seed(40)\n",
    "\n",
    "    # Read the wine-quality csv file from the URL\n",
    "    csv_url = (\n",
    "        \"http://archive.ics.uci.edu/ml/machine-learning-databases/wine-quality/winequality-red.csv\"\n",
    "    )\n",
    "    try:\n",
    "        data = pd.read_csv(csv_url, sep=\";\")\n",
    "        \n",
    "    except Exception as e:\n",
    "        logger.exception(\n",
    "            \"Unable to download training & test CSV, check your internet connection. Error: %s\", e\n",
    "        )\n",
    "\n",
    "    # Split the data into training and test sets. (0.75, 0.25) split.\n",
    "    train, test = train_test_split(data)\n",
    "\n",
    "    # The predicted column is \"quality\" which is a scalar from [3, 9]\n",
    "    train_x = train.drop([\"quality\"], axis=1)\n",
    "    test_x = test.drop([\"quality\"], axis=1)\n",
    "    train_y = train[[\"quality\"]]\n",
    "    test_y = test[[\"quality\"]]\n",
    "\n",
    "    alpha = 0.5\n",
    "    l1_ratio = 0.5\n",
    "\n",
    "    with mlflow.start_run():\n",
    "        \n",
    "        lr = ElasticNet(alpha=alpha, l1_ratio=l1_ratio, random_state=42)\n",
    "        lr.fit(train_x, train_y)\n",
    "\n",
    "        predicted_qualities = lr.predict(test_x)\n",
    "\n",
    "        (rmse, mae, r2) = eval_metrics(test_y, predicted_qualities)\n",
    "\n",
    "        print(\"Elasticnet model (alpha=%f, l1_ratio=%f):\" % (alpha, l1_ratio))\n",
    "        print(\"  RMSE: %s\" % rmse)\n",
    "        print(\"  MAE: %s\" % mae)\n",
    "        print(\"  R2: %s\" % r2)\n",
    "\n",
    "        mlflow.log_param(\"alpha\", alpha)\n",
    "        mlflow.log_param(\"l1_ratio\", l1_ratio)\n",
    "        mlflow.log_metric(\"rmse\", rmse)\n",
    "        mlflow.log_metric(\"r2\", r2)\n",
    "        mlflow.log_metric(\"mae\", mae)\n",
    "\n",
    "        #mlflow.sklearn.log_model(lr, \"model\")\n",
    "\n",
    "        tracking_url_type_store = urlparse(mlflow.get_tracking_uri()).scheme\n",
    "\n",
    "        # Model registry does not work with file store\n",
    "        if tracking_url_type_store != \"file\":\n",
    "\n",
    "            # Register the model\n",
    "            # There are other ways to use the Model Registry, which depends on the use case,\n",
    "            # please refer to the doc for more information:\n",
    "            # https://mlflow.org/docs/latest/model-registry.html#api-workflow\n",
    "            mlflow.sklearn.log_model(lr, \"model\", registered_model_name=\"ElasticnetWineModel\")\n",
    "        else:\n",
    "            mlflow.sklearn.log_model(lr, \"model\")"
   ]
  },
  {
   "cell_type": "code",
   "execution_count": 4,
   "id": "51c93e94",
   "metadata": {},
   "outputs": [
    {
     "name": "stderr",
     "output_type": "stream",
     "text": [
      "2023/05/09 15:16:22 ERROR mlflow.cli: Error initializing backend store\n",
      "2023/05/09 15:16:22 ERROR mlflow.cli: [WinError 3] El sistema no puede encontrar la ruta especificada: 'E:\\\\'\n",
      "Traceback (most recent call last):\n",
      "  File \"C:\\Users\\alexb\\anaconda3\\lib\\site-packages\\mlflow\\cli.py\", line 404, in server\n",
      "    initialize_backend_stores(backend_store_uri, registry_store_uri, default_artifact_root)\n",
      "  File \"C:\\Users\\alexb\\anaconda3\\lib\\site-packages\\mlflow\\server\\handlers.py\", line 280, in initialize_backend_stores\n",
      "    _get_model_registry_store(registry_store_uri)\n",
      "  File \"C:\\Users\\alexb\\anaconda3\\lib\\site-packages\\mlflow\\server\\handlers.py\", line 271, in _get_model_registry_store\n",
      "    _model_registry_store = _model_registry_store_registry.get_store(store_uri)\n",
      "  File \"C:\\Users\\alexb\\anaconda3\\lib\\site-packages\\mlflow\\tracking\\_model_registry\\registry.py\", line 43, in get_store\n",
      "    return self._get_store_with_resolved_uri(resolved_store_uri, resolved_tracking_uri)\n",
      "  File \"C:\\Users\\alexb\\anaconda3\\lib\\site-packages\\mlflow\\tracking\\_model_registry\\registry.py\", line 60, in _get_store_with_resolved_uri\n",
      "    return builder(store_uri=resolved_store_uri)\n",
      "  File \"C:\\Users\\alexb\\anaconda3\\lib\\site-packages\\mlflow\\server\\handlers.py\", line 134, in _get_file_store\n",
      "    return FileStore(store_uri)\n",
      "  File \"C:\\Users\\alexb\\anaconda3\\lib\\site-packages\\mlflow\\store\\model_registry\\file_store.py\", line 99, in __init__\n",
      "    mkdir(self.models_directory)\n",
      "  File \"C:\\Users\\alexb\\anaconda3\\lib\\site-packages\\mlflow\\utils\\file_utils.py\", line 122, in mkdir\n",
      "    raise e\n",
      "  File \"C:\\Users\\alexb\\anaconda3\\lib\\site-packages\\mlflow\\utils\\file_utils.py\", line 119, in mkdir\n",
      "    os.makedirs(target)\n",
      "  File \"C:\\Users\\alexb\\anaconda3\\lib\\os.py\", line 213, in makedirs\n",
      "    makedirs(head, exist_ok=exist_ok)\n",
      "  File \"C:\\Users\\alexb\\anaconda3\\lib\\os.py\", line 213, in makedirs\n",
      "    makedirs(head, exist_ok=exist_ok)\n",
      "  File \"C:\\Users\\alexb\\anaconda3\\lib\\os.py\", line 223, in makedirs\n",
      "    mkdir(name, mode)\n",
      "FileNotFoundError: [WinError 3] El sistema no puede encontrar la ruta especificada: 'E:\\\\'\n"
     ]
    }
   ],
   "source": [
    "!mlflow server --registry-store-uri 'sqlite:///mlruns.db'"
   ]
  }
 ],
 "metadata": {
  "kernelspec": {
   "display_name": "mlops",
   "language": "python",
   "name": "python3"
  },
  "language_info": {
   "codemirror_mode": {
    "name": "ipython",
    "version": 3
   },
   "file_extension": ".py",
   "mimetype": "text/x-python",
   "name": "python",
   "nbconvert_exporter": "python",
   "pygments_lexer": "ipython3",
   "version": "3.8.8"
  }
 },
 "nbformat": 4,
 "nbformat_minor": 5
}
